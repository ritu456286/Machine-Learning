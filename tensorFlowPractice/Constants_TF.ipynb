{
  "nbformat": 4,
  "nbformat_minor": 0,
  "metadata": {
    "colab": {
      "provenance": []
    },
    "kernelspec": {
      "name": "python3",
      "display_name": "Python 3"
    },
    "language_info": {
      "name": "python"
    }
  },
  "cells": [
    {
      "cell_type": "code",
      "execution_count": 1,
      "metadata": {
        "id": "cuuhh4-SXmOJ"
      },
      "outputs": [],
      "source": [
        "import tensorflow as tf"
      ]
    },
    {
      "cell_type": "code",
      "source": [
        "a = tf.constant(10)\n",
        "b = tf.constant(20)\n",
        "c = a + b\n",
        "# print(c)\n",
        "# c.eval() --> gives error"
      ],
      "metadata": {
        "id": "9RHG9PWTYr18"
      },
      "execution_count": 2,
      "outputs": []
    },
    {
      "source": [
        "import tensorflow as tf\n",
        "\n",
        "a = tf.constant(10)\n",
        "b = tf.constant(20)\n",
        "c = a + b\n",
        "print(c) # This will directly print the result due to eager execution\n",
        "\n",
        "# No need for a session in TensorFlow 2.x\n",
        "# The following lines are removed:\n",
        "# sess = tf.Session()\n",
        "# print(sess.run(c))\n",
        "# sess.close"
      ],
      "cell_type": "code",
      "metadata": {
        "id": "Yw8ijYGxZJGA",
        "colab": {
          "base_uri": "https://localhost:8080/"
        },
        "outputId": "f9ec5909-6021-4c5c-f05d-c625c16495a4"
      },
      "execution_count": 3,
      "outputs": [
        {
          "output_type": "stream",
          "name": "stdout",
          "text": [
            "tf.Tensor(30, shape=(), dtype=int32)\n"
          ]
        }
      ]
    },
    {
      "cell_type": "code",
      "source": [
        "m1 = tf.constant([[3, 3]]) # 1 * 2\n",
        "m2 = tf.constant([[2], [3]]) # 2 * 1\n",
        "p = tf.matmul(m1, m2)\n",
        "print(p)"
      ],
      "metadata": {
        "colab": {
          "base_uri": "https://localhost:8080/"
        },
        "id": "sVTZ7GiXY5ey",
        "outputId": "ed1575cc-98e4-419e-f4e2-64427b10be61"
      },
      "execution_count": 4,
      "outputs": [
        {
          "output_type": "stream",
          "name": "stdout",
          "text": [
            "tf.Tensor([[15]], shape=(1, 1), dtype=int32)\n"
          ]
        }
      ]
    },
    {
      "cell_type": "code",
      "source": [
        "type(p) # p is EagerTensor, which is default for Tensorflow"
      ],
      "metadata": {
        "colab": {
          "base_uri": "https://localhost:8080/"
        },
        "id": "QQpqwT5FaAcC",
        "outputId": "d30fe12c-6789-4fff-9f46-38591d05fd0d"
      },
      "execution_count": 5,
      "outputs": [
        {
          "output_type": "execute_result",
          "data": {
            "text/plain": [
              "tensorflow.python.framework.ops.EagerTensor"
            ]
          },
          "metadata": {},
          "execution_count": 5
        }
      ]
    },
    {
      "cell_type": "code",
      "source": [],
      "metadata": {
        "id": "3WRmecDdaIJb"
      },
      "execution_count": 5,
      "outputs": []
    }
  ]
}