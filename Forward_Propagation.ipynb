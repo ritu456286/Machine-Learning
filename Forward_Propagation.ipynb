{
  "nbformat": 4,
  "nbformat_minor": 0,
  "metadata": {
    "colab": {
      "provenance": [],
      "authorship_tag": "ABX9TyM263coRKr2CMLDbd/DzGUZ",
      "include_colab_link": true
    },
    "kernelspec": {
      "name": "python3",
      "display_name": "Python 3"
    },
    "language_info": {
      "name": "python"
    }
  },
  "cells": [
    {
      "cell_type": "markdown",
      "metadata": {
        "id": "view-in-github",
        "colab_type": "text"
      },
      "source": [
        "<a href=\"https://colab.research.google.com/github/ritu456286/Machine-Learning/blob/main/Forward_Propagation.ipynb\" target=\"_parent\"><img src=\"https://colab.research.google.com/assets/colab-badge.svg\" alt=\"Open In Colab\"/></a>"
      ]
    },
    {
      "cell_type": "markdown",
      "source": [
        "# **FORWARD PROPAGATION**\n",
        "\n",
        "---\n",
        "\n"
      ],
      "metadata": {
        "id": "b1r6CppNLcnB"
      }
    },
    {
      "cell_type": "markdown",
      "source": [
        "Here, we randomly select values of weights and biases for hidden and output layers, and reach to the conclusion by applying sigmoid as the Activation Function\n",
        "\n",
        "\n"
      ],
      "metadata": {
        "id": "LriOuBCpL1Fk"
      }
    },
    {
      "cell_type": "code",
      "execution_count": null,
      "metadata": {
        "colab": {
          "base_uri": "https://localhost:8080/"
        },
        "id": "HHL7GYCZDyoi",
        "outputId": "f572ea95-d156-4457-a876-ee43f9da07f2"
      },
      "outputs": [
        {
          "output_type": "execute_result",
          "data": {
            "text/plain": [
              "((4, 2), (4, 1))"
            ]
          },
          "metadata": {},
          "execution_count": 3
        }
      ],
      "source": [
        "import numpy as np\n",
        "import pandas as pd\n",
        "\n",
        "X = np.array([[0,0], [0,1], [1, 0], [1,1]])\n",
        "y = np.array([0,0,0,1]).reshape(4,1)\n",
        "X.shape, y.shape"
      ]
    },
    {
      "cell_type": "code",
      "source": [
        "def sigmoid(z):\n",
        "    return 1/(1+np.exp(-z))"
      ],
      "metadata": {
        "id": "9Iroy4kMEZHl"
      },
      "execution_count": null,
      "outputs": []
    },
    {
      "cell_type": "markdown",
      "source": [
        "## With no hidden layers"
      ],
      "metadata": {
        "id": "7_6jtUoCFEYv"
      }
    },
    {
      "cell_type": "code",
      "source": [
        "weights = 2 * np.random.random((2, 1)) - 1\n",
        "bias = 2 * np.random.random(1) - 1\n",
        "weights, bias"
      ],
      "metadata": {
        "colab": {
          "base_uri": "https://localhost:8080/"
        },
        "id": "6H3tBKl6EpkA",
        "outputId": "1b30b7a7-5ae6-407c-ba2a-4691ca0c4c54"
      },
      "execution_count": null,
      "outputs": [
        {
          "output_type": "execute_result",
          "data": {
            "text/plain": [
              "(array([[0.81964155],\n",
              "        [0.09720538]]),\n",
              " array([0.07371931]))"
            ]
          },
          "metadata": {},
          "execution_count": 25
        }
      ]
    },
    {
      "cell_type": "code",
      "source": [
        "z = np.dot(X, weights) + bias\n",
        "output = sigmoid(z)\n",
        "output"
      ],
      "metadata": {
        "colab": {
          "base_uri": "https://localhost:8080/"
        },
        "id": "fUpY6t5wFBNf",
        "outputId": "25a42367-2745-4b18-db65-3b5614f26ff9"
      },
      "execution_count": null,
      "outputs": [
        {
          "output_type": "execute_result",
          "data": {
            "text/plain": [
              "array([[3.72007598e-44],\n",
              "       [1.38879439e-11],\n",
              "       [1.38879439e-11],\n",
              "       [1.00000000e+00]])"
            ]
          },
          "metadata": {},
          "execution_count": 15
        }
      ]
    },
    {
      "cell_type": "markdown",
      "source": [
        "## With one hidden layer"
      ],
      "metadata": {
        "id": "FPgz5vLUJiwy"
      }
    },
    {
      "cell_type": "code",
      "source": [
        "num_neurons_hidden = 3\n",
        "num_neurons_output = 1\n",
        "weights_hidden = 2 * np.random.random((2, num_neurons_hidden)) - 1\n",
        "bias_hidden = 2 * np.random.random((1, num_neurons_hidden)) - 1\n",
        "weights_output = 2 * np.random.random((num_neurons_hidden, num_neurons_output)) - 1\n",
        "bias_output = 2 * np.random.random((1, num_neurons_output)) - 1"
      ],
      "metadata": {
        "id": "fswvWk3pI3NA"
      },
      "execution_count": null,
      "outputs": []
    },
    {
      "cell_type": "code",
      "source": [
        "output_hidden = sigmoid(np.dot(X, weights_hidden) + bias_hidden)\n",
        "output_hidden"
      ],
      "metadata": {
        "colab": {
          "base_uri": "https://localhost:8080/"
        },
        "id": "8PBkiYptF5Ig",
        "outputId": "9092a8c3-457c-4b66-b273-f21ccdc8042a"
      },
      "execution_count": null,
      "outputs": [
        {
          "output_type": "execute_result",
          "data": {
            "text/plain": [
              "array([[0.34409249, 0.71398592, 0.68712011],\n",
              "       [0.24900952, 0.83103986, 0.83053972],\n",
              "       [0.2870518 , 0.8296362 , 0.71512975],\n",
              "       [0.20285606, 0.905616  , 0.84854025]])"
            ]
          },
          "metadata": {},
          "execution_count": 23
        }
      ]
    },
    {
      "cell_type": "code",
      "source": [
        "output = sigmoid(np.dot(output_hidden, weights_output) + bias_output)\n",
        "output"
      ],
      "metadata": {
        "colab": {
          "base_uri": "https://localhost:8080/"
        },
        "id": "QzGrmRK5KA6d",
        "outputId": "d7db2731-2926-4bc2-eb18-a3ea81986411"
      },
      "execution_count": null,
      "outputs": [
        {
          "output_type": "execute_result",
          "data": {
            "text/plain": [
              "array([[0.56618661],\n",
              "       [0.55292306],\n",
              "       [0.56441305],\n",
              "       [0.55174702]])"
            ]
          },
          "metadata": {},
          "execution_count": 24
        }
      ]
    }
  ]
}